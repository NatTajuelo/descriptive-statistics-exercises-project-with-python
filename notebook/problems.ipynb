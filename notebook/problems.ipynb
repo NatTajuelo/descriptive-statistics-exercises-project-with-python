{
    "cells": [
        {
            "cell_type": "markdown",
            "id": "ac622319",
            "metadata": {},
            "source": [
                "# Descriptive statistics problems"
            ]
        },
        {
            "cell_type": "markdown",
            "id": "5e0ab0d5",
            "metadata": {},
            "source": [
                "### Exercise 1\n",
                "\n",
                "We will use NumPy to obtain information to describe statistically.\n",
                "\n",
                "- Generate an array of 100 elements following a normal distribution.\n",
                "- Generate an array of 100 elements following a chi-square distribution with 3 degrees of freedom.\n",
                "- Calculate the main metrics and statistical measures that best describe the two vectors."
            ]
        },
        {
            "cell_type": "code",
            "execution_count": 2,
            "id": "34720ab6",
            "metadata": {},
            "outputs": [
                {
                    "name": "stdout",
                    "output_type": "stream",
                    "text": [
                        "       Value\n",
                        "0  -0.818052\n",
                        "1   1.601652\n",
                        "2   0.815376\n",
                        "3  -1.101122\n",
                        "4   0.793109\n",
                        "..       ...\n",
                        "95 -1.535450\n",
                        "96  0.744771\n",
                        "97 -3.359094\n",
                        "98  0.032264\n",
                        "99 -0.538640\n",
                        "\n",
                        "[100 rows x 1 columns]\n",
                        "       Value\n",
                        "0   1.941311\n",
                        "1   1.761396\n",
                        "2   0.414146\n",
                        "3   1.703102\n",
                        "4   2.785988\n",
                        "..       ...\n",
                        "95  1.441509\n",
                        "96  8.666498\n",
                        "97  3.587326\n",
                        "98  2.561211\n",
                        "99  2.814995\n",
                        "\n",
                        "[100 rows x 1 columns]\n"
                    ]
                }
            ],
            "source": [
                "# TODO\n",
                "import numpy as np\n",
                "import pandas as pd\n",
                "\n",
                "\n",
                "data = np.random.normal(loc = 0, scale = 1, size = 100)\n",
                "\n",
                "df = pd.DataFrame(data)\n",
                "df.columns = [\"Value\"]\n",
                "\n",
                "print(df)\n",
                "\n",
                "###########################################\n",
                "\n",
                "data2 = np.random.chisquare(df=3, size = 100)\n",
                "\n",
                "df2 = pd.DataFrame(data2)\n",
                "df2.columns = [\"Value\"]\n",
                "\n",
                "print(df2)\n"
            ]
        },
        {
            "cell_type": "code",
            "execution_count": 3,
            "id": "e65dc43b",
            "metadata": {},
            "outputs": [
                {
                    "name": "stdout",
                    "output_type": "stream",
                    "text": [
                        "Media del normal: -0.09380198231546756\n",
                        "Media del chi: 2.81693943499434\n",
                        "\n",
                        "Mediana del normal: 0.11310111985779403\n",
                        "Mediana del chi: 2.36076895884006\n",
                        "\n",
                        "Moda del normal: -0.818051769401329\n",
                        "Moda del chi: 1.9413105149953858\n"
                    ]
                }
            ],
            "source": [
                "import statistics as stats\n",
                "\n",
                "print(f\"Media del normal: {stats.mean(data)}\")\n",
                "print(f\"Media del chi: {stats.mean(data2)}\")\n",
                "\n",
                "print(f\"\\nMediana del normal: {stats.median(data)}\")\n",
                "print(f\"Mediana del chi: {stats.median(data2)}\")\n",
                "\n",
                "print(f\"\\nModa del normal: {stats.mode(data)}\")\n",
                "print(f\"Moda del chi: {stats.mode(data2)}\")"
            ]
        },
        {
            "cell_type": "code",
            "execution_count": 4,
            "id": "ce31cbc8",
            "metadata": {},
            "outputs": [
                {
                    "name": "stdout",
                    "output_type": "stream",
                    "text": [
                        "Rango del normal: 5.5202865348542245\n",
                        "Rango del chi: 10.941544740487638\n",
                        "\n",
                        "Normal variance: 1.1511900802949233 and std: 1.0729352637950358\n",
                        "Chi variance: 5.443262994195936 and std: 2.333080151687022\n"
                    ]
                }
            ],
            "source": [
                "rango_normal = max(data) - min(data)\n",
                "rango_chi = max(data2) - min(data2)\n",
                "print(f\"Rango del normal: {rango_normal}\")\n",
                "print(f\"Rango del chi: {rango_chi}\")\n",
                "\n",
                "variacion_normal = stats.variance(data)\n",
                "std_normal = stats.stdev(data)\n",
                "variacion_chi = stats.variance(data2)\n",
                "std_chi = stats.stdev(data2)\n",
                "\n",
                "print(f\"\\nNormal variance: {variacion_normal} and std: {std_normal}\")\n",
                "print(f\"Chi variance: {variacion_chi} and std: {std_chi}\")"
            ]
        },
        {
            "cell_type": "code",
            "execution_count": 5,
            "id": "69ec82d6",
            "metadata": {},
            "outputs": [
                {
                    "name": "stdout",
                    "output_type": "stream",
                    "text": [
                        "Asimetría del normal: -0.7278073562063698\n",
                        "Asimetría del chi: 1.2554011500816649\n",
                        "\n",
                        "Normal kurtosis: 0.7216880099301557\n",
                        "Chi kurtosis: 1.105460644759745\n"
                    ]
                }
            ],
            "source": [
                "from scipy.stats import skew, kurtosis\n",
                "\n",
                "skew_normal = skew(data)\n",
                "skew_chi = skew(data2)\n",
                "\n",
                "print(f\"Asimetría del normal: {skew_normal}\")\n",
                "print(f\"Asimetría del chi: {skew_chi}\")\n",
                "\n",
                "curt_normal = kurtosis(data)\n",
                "curt_chi = kurtosis(data2)\n",
                "\n",
                "print(f\"\\nNormal kurtosis: {curt_normal}\")\n",
                "print(f\"Chi kurtosis: {curt_chi}\")"
            ]
        },
        {
            "cell_type": "markdown",
            "id": "46c70c3d",
            "metadata": {},
            "source": [
                "### Exercise 2\n",
                "\n",
                "Write a Python program to calculate the standard deviation of the following data:\n",
                "\n",
                "```py\n",
                "data = [4, 2, 5, 8, 6]\n",
                "```"
            ]
        },
        {
            "cell_type": "code",
            "execution_count": 6,
            "id": "d590308e",
            "metadata": {},
            "outputs": [
                {
                    "name": "stdout",
                    "output_type": "stream",
                    "text": [
                        "La desviación estándar es: 2.0\n"
                    ]
                }
            ],
            "source": [
                "# TODO\n",
                "data = [4, 2, 5, 8, 6]\n",
                "\n",
                "from math import sqrt\n",
                "\n",
                "def desviacion(valores, media):\n",
                "    suma = 0\n",
                "    for i in valores:\n",
                "        suma += (i - media) ** 2\n",
                "    rad = suma / (len(valores) - 1)\n",
                "    return sqrt(rad)\n",
                "\n",
                "def media (valores):\n",
                "    suma = 0\n",
                "    for i in valores:\n",
                "        suma += i\n",
                "    return suma / len(valores)\n",
                "\n",
                "media = media(data)\n",
                "resultado = desviacion(data, media)\n",
                "\n",
                "print(f\"La desviación estándar es: {np.round(resultado)}\")\n"
            ]
        }
    ],
    "metadata": {
        "interpreter": {
            "hash": "9248718ffe6ce6938b217e69dbcc175ea21f4c6b28a317e96c05334edae734bb"
        },
        "kernelspec": {
            "display_name": "Python 3.9.12 ('ML-BOOTCAMP')",
            "language": "python",
            "name": "python3"
        },
        "language_info": {
            "codemirror_mode": {
                "name": "ipython",
                "version": 3
            },
            "file_extension": ".py",
            "mimetype": "text/x-python",
            "name": "python",
            "nbconvert_exporter": "python",
            "pygments_lexer": "ipython3",
            "version": "3.11.4"
        }
    },
    "nbformat": 4,
    "nbformat_minor": 5
}
