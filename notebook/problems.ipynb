{
    "cells": [
        {
            "cell_type": "markdown",
            "id": "ac622319",
            "metadata": {},
            "source": [
                "# Descriptive statistics problems"
            ]
        },
        {
            "cell_type": "markdown",
            "id": "5e0ab0d5",
            "metadata": {},
            "source": [
                "### Exercise 1\n",
                "\n",
                "We will use NumPy to obtain information to describe statistically.\n",
                "\n",
                "- Generate an array of 100 elements following a normal distribution.\n",
                "- Generate an array of 100 elements following a chi-square distribution with 3 degrees of freedom.\n",
                "- Calculate the main metrics and statistical measures that best describe the two vectors."
            ]
        },
        {
            "cell_type": "code",
            "execution_count": 17,
            "id": "34720ab6",
            "metadata": {},
            "outputs": [
                {
                    "name": "stdout",
                    "output_type": "stream",
                    "text": [
                        "       Value\n",
                        "0   0.471075\n",
                        "1  -0.797110\n",
                        "2  -1.206151\n",
                        "3   0.113234\n",
                        "4  -0.313909\n",
                        "..       ...\n",
                        "95 -0.476890\n",
                        "96 -0.737893\n",
                        "97  0.831224\n",
                        "98 -0.014040\n",
                        "99 -0.381736\n",
                        "\n",
                        "[100 rows x 1 columns]\n",
                        "       Value\n",
                        "0   1.674556\n",
                        "1   3.992650\n",
                        "2   0.853164\n",
                        "3   3.384957\n",
                        "4   0.890381\n",
                        "..       ...\n",
                        "95  3.193834\n",
                        "96  6.269740\n",
                        "97  1.390340\n",
                        "98  5.545567\n",
                        "99  5.257184\n",
                        "\n",
                        "[100 rows x 1 columns]\n"
                    ]
                }
            ],
            "source": [
                "# TODO\n",
                "import numpy as np\n",
                "import pandas as pd\n",
                "\n",
                "\n",
                "data = np.random.normal(loc = 0, scale = 1, size = 100)\n",
                "\n",
                "df = pd.DataFrame(data)\n",
                "df.columns = [\"Value\"]\n",
                "\n",
                "print(df)\n",
                "\n",
                "###########################################\n",
                "\n",
                "data2 = np.random.chisquare(df=3, size = 100)\n",
                "\n",
                "df2 = pd.DataFrame(data2)\n",
                "df2.columns = [\"Value\"]\n",
                "\n",
                "print(df2)\n"
            ]
        },
        {
            "cell_type": "code",
            "execution_count": 24,
            "id": "e65dc43b",
            "metadata": {},
            "outputs": [
                {
                    "name": "stdout",
                    "output_type": "stream",
                    "text": [
                        "Media del normal: 5\n",
                        "Media del chi: 3.209991632531361\n",
                        "\n",
                        "Mediana del normal: 5\n",
                        "Mediana del chi: 2.80467074174345\n",
                        "\n",
                        "Moda del normal: 4\n",
                        "Moda del chi: 1.6745555883781902\n"
                    ]
                }
            ],
            "source": [
                "import statistics as stats\n",
                "\n",
                "print(f\"Media del normal: {stats.mean(data)}\")\n",
                "print(f\"Media del chi: {stats.mean(data2)}\")\n",
                "\n",
                "print(f\"\\nMediana del normal: {stats.median(data)}\")\n",
                "print(f\"Mediana del chi: {stats.median(data2)}\")\n",
                "\n",
                "print(f\"\\nModa del normal: {stats.mode(data)}\")\n",
                "print(f\"Moda del chi: {stats.mode(data2)}\")"
            ]
        },
        {
            "cell_type": "code",
            "execution_count": 25,
            "id": "ce31cbc8",
            "metadata": {},
            "outputs": [
                {
                    "name": "stdout",
                    "output_type": "stream",
                    "text": [
                        "Rango del normal: 6\n",
                        "Rango del chi: 12.251484029700407\n",
                        "\n",
                        "Normal variance: 5 and std: 2.23606797749979\n",
                        "Chi variance: 5.936051083512711 and std: 2.436401256671961\n"
                    ]
                }
            ],
            "source": [
                "rango_normal = max(data) - min(data)\n",
                "rango_chi = max(data2) - min(data2)\n",
                "print(f\"Rango del normal: {rango_normal}\")\n",
                "print(f\"Rango del chi: {rango_chi}\")\n",
                "\n",
                "variacion_normal = stats.variance(data)\n",
                "std_normal = stats.stdev(data)\n",
                "variacion_chi = stats.variance(data2)\n",
                "std_chi = stats.stdev(data2)\n",
                "\n",
                "print(f\"\\nNormal variance: {variacion_normal} and std: {std_normal}\")\n",
                "print(f\"Chi variance: {variacion_chi} and std: {std_chi}\")"
            ]
        },
        {
            "cell_type": "code",
            "execution_count": 26,
            "id": "69ec82d6",
            "metadata": {},
            "outputs": [
                {
                    "name": "stdout",
                    "output_type": "stream",
                    "text": [
                        "Asimetría del normal: 0.0\n",
                        "Asimetría del chi: 1.4799627232390675\n",
                        "\n",
                        "Normal kurtosis: -0.9500000000000002\n",
                        "Chi kurtosis: 2.6077061040827214\n"
                    ]
                }
            ],
            "source": [
                "from scipy.stats import skew, kurtosis\n",
                "\n",
                "skew_normal = skew(data)\n",
                "skew_chi = skew(data2)\n",
                "\n",
                "print(f\"Asimetría del normal: {skew_normal}\")\n",
                "print(f\"Asimetría del chi: {skew_chi}\")\n",
                "\n",
                "curt_normal = kurtosis(data)\n",
                "curt_chi = kurtosis(data2)\n",
                "\n",
                "print(f\"\\nNormal kurtosis: {curt_normal}\")\n",
                "print(f\"Chi kurtosis: {curt_chi}\")"
            ]
        },
        {
            "cell_type": "markdown",
            "id": "46c70c3d",
            "metadata": {},
            "source": [
                "### Exercise 2\n",
                "\n",
                "Write a Python program to calculate the standard deviation of the following data:\n",
                "\n",
                "```py\n",
                "data = [4, 2, 5, 8, 6]\n",
                "```"
            ]
        },
        {
            "cell_type": "code",
            "execution_count": 31,
            "id": "d590308e",
            "metadata": {},
            "outputs": [
                {
                    "ename": "UnboundLocalError",
                    "evalue": "cannot access local variable 'variance' where it is not associated with a value",
                    "output_type": "error",
                    "traceback": [
                        "\u001b[0;31m---------------------------------------------------------------------------\u001b[0m",
                        "\u001b[0;31mUnboundLocalError\u001b[0m                         Traceback (most recent call last)",
                        "Cell \u001b[0;32mIn[31], line 15\u001b[0m\n\u001b[1;32m     11\u001b[0m     variance \u001b[38;5;241m=\u001b[39m variance \u001b[38;5;241m/\u001b[39m \u001b[38;5;28mlen\u001b[39m(data)\n\u001b[1;32m     13\u001b[0m     \u001b[38;5;28;01mreturn\u001b[39;00m variance\n\u001b[0;32m---> 15\u001b[0m \u001b[43mdeviation\u001b[49m\u001b[43m(\u001b[49m\u001b[43mdata\u001b[49m\u001b[43m)\u001b[49m\n",
                        "Cell \u001b[0;32mIn[31], line 10\u001b[0m, in \u001b[0;36mdeviation\u001b[0;34m(data)\u001b[0m\n\u001b[1;32m      8\u001b[0m media \u001b[38;5;241m=\u001b[39m media\u001b[38;5;241m/\u001b[39m\u001b[38;5;28mlen\u001b[39m(data)\n\u001b[1;32m      9\u001b[0m \u001b[38;5;28;01mfor\u001b[39;00m i \u001b[38;5;129;01min\u001b[39;00m \u001b[38;5;28mrange\u001b[39m(\u001b[38;5;28mlen\u001b[39m(data)):\n\u001b[0;32m---> 10\u001b[0m     variance \u001b[38;5;241m=\u001b[39m (i \u001b[38;5;241m+\u001b[39m \u001b[43mvariance\u001b[49m \u001b[38;5;241m-\u001b[39m media) \u001b[38;5;241m*\u001b[39m\u001b[38;5;241m*\u001b[39m \u001b[38;5;241m2\u001b[39m\n\u001b[1;32m     11\u001b[0m variance \u001b[38;5;241m=\u001b[39m variance \u001b[38;5;241m/\u001b[39m \u001b[38;5;28mlen\u001b[39m(data)\n\u001b[1;32m     13\u001b[0m \u001b[38;5;28;01mreturn\u001b[39;00m variance\n",
                        "\u001b[0;31mUnboundLocalError\u001b[0m: cannot access local variable 'variance' where it is not associated with a value"
                    ]
                }
            ],
            "source": [
                "# TODO\n",
                "data = [4, 2, 5, 8, 6]\n",
                "\n",
                "def deviation(data):\n",
                "    media = 0\n",
                "    for i in range(len(data)):\n",
                "        media = i + media\n",
                "    media = media/len(data)\n",
                "    for i in range(len(data)):\n",
                "        variance = (i + variance - media) ** 2\n",
                "    variance = variance / len(data)\n",
                "\n",
                "    return variance\n",
                "\n",
                "deviation(data)\n"
            ]
        }
    ],
    "metadata": {
        "interpreter": {
            "hash": "9248718ffe6ce6938b217e69dbcc175ea21f4c6b28a317e96c05334edae734bb"
        },
        "kernelspec": {
            "display_name": "Python 3.9.12 ('ML-BOOTCAMP')",
            "language": "python",
            "name": "python3"
        },
        "language_info": {
            "codemirror_mode": {
                "name": "ipython",
                "version": 3
            },
            "file_extension": ".py",
            "mimetype": "text/x-python",
            "name": "python",
            "nbconvert_exporter": "python",
            "pygments_lexer": "ipython3",
            "version": "3.11.4"
        }
    },
    "nbformat": 4,
    "nbformat_minor": 5
}
